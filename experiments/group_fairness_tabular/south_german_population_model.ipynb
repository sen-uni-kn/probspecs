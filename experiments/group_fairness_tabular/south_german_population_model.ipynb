{
 "cells": [
  {
   "cell_type": "code",
   "execution_count": null,
   "id": "initial_id",
   "metadata": {
    "collapsed": true,
    "jupyter": {
     "outputs_hidden": true
    }
   },
   "outputs": [],
   "source": [
    "import random\n",
    "\n",
    "import dill\n",
    "import pandas as pd\n",
    "import torch\n",
    "from torch import nn\n",
    "import numpy as np\n",
    "from scipy.stats import lognorm\n",
    "from fairnessdatasets import SouthGerman\n",
    "import seaborn as sns\n",
    "import matplotlib.pyplot as plt\n",
    "\n",
    "from probspecs import TabularInputSpace\n",
    "from probspecs.distributions import *\n",
    "\n",
    "from experiments.input_spaces import south_german_input_space\n",
    "\n",
    "torch.manual_seed(865470788748102)\n",
    "np.random.seed(9931567)\n",
    "random.seed(333161767645837)"
   ]
  },
  {
   "cell_type": "code",
   "execution_count": null,
   "id": "86a02080cabc44d4",
   "metadata": {},
   "outputs": [],
   "source": [
    "dataset = SouthGerman(root=\"../../.datasets\", download=True)\n",
    "dataset_raw = SouthGerman(root=\"../../.datasets\", raw=True, download=True)\n",
    "dataset_df = pd.DataFrame(dataset_raw.data, columns=dataset_raw.columns)\n",
    "dataset_df[\"dataset\"] = \"training\"  # for later\n",
    "dataset_df"
   ]
  },
  {
   "cell_type": "markdown",
   "id": "b5ad7df34fb50eff",
   "metadata": {},
   "source": [
    "# Visualize the Dataset\n"
   ]
  },
  {
   "cell_type": "code",
   "execution_count": null,
   "id": "92ee490d45cf40c0",
   "metadata": {},
   "outputs": [],
   "source": [
    "%%capture --no-stdout --no-display\n",
    "fig, axes = plt.subplot_mosaic(\n",
    "    [\n",
    "        [\"status\", \"credit_history\", \"purpose\", \"savings\"],\n",
    "        [\n",
    "            \"employment_duration\",\n",
    "            \"installment_rate\",\n",
    "            \"other_debtors\",\n",
    "            \"present_residence\",\n",
    "        ],\n",
    "        [\"property\", \"other_installment_plans\", \"housing\", \"number_credits\"],\n",
    "        [\"job\", \"people_liable\", \"telephone\", \"foreign_worker\"],\n",
    "        [\"personal_status_sex\", \"personal_status_sex\", \"duration\", \"duration\"],\n",
    "        [\"age\", \"age\", \"amount\", \"amount\"],\n",
    "    ],\n",
    "    figsize=(15, 20),\n",
    ")\n",
    "for var in SouthGerman.variables:\n",
    "    if var not in (\"age\", \"duration\", \"amount\"):\n",
    "        g = sns.histplot(\n",
    "            dataset_df,\n",
    "            x=var,\n",
    "            discrete=True,\n",
    "            shrink=0.8,\n",
    "            multiple=\"dodge\",\n",
    "            stat=\"percent\",\n",
    "            common_norm=False,\n",
    "            legend=False,\n",
    "            ax=axes[var],\n",
    "        )\n",
    "    else:\n",
    "        g = sns.histplot(\n",
    "            dataset_df,\n",
    "            x=var,\n",
    "            stat=\"percent\",\n",
    "            common_norm=False,\n",
    "            ax=axes[var],\n",
    "        )\n",
    "    g.set(title=var, xlabel=None)"
   ]
  },
  {
   "cell_type": "code",
   "execution_count": null,
   "id": "3542f8bfa702245a",
   "metadata": {},
   "outputs": [],
   "source": [
    "%%capture --no-stdout --no-display\n",
    "fig = plt.figure(figsize=(7, 5))\n",
    "\n",
    "data_corrcoef = np.corrcoef(dataset_raw.data.T.numpy())\n",
    "_ = sns.heatmap(\n",
    "    data_corrcoef,\n",
    "    vmin=-1.0,\n",
    "    vmax=1.0,\n",
    "    square=True,\n",
    "    cmap=\"RdBu\",\n",
    "    xticklabels=SouthGerman.variables,\n",
    "    yticklabels=SouthGerman.variables,\n",
    ")"
   ]
  },
  {
   "cell_type": "markdown",
   "id": "1aa96d71cec62e52",
   "metadata": {},
   "source": [
    "# Base Population Model\n",
    "We fit a Bayesian network to the dataset to obtain a base population model.\n",
    "We postulate the following structure of the Bayesian network:\n",
    "- We pose `age` and `foreign_worker` as root variables.\n",
    "- We introduce a categorical latent variable `gender`. We use historical data to model the distribution of `gender` explicitly. \n",
    "  However, since no data on non-binary individuals is available to us, we only model two genders.\n",
    "- We introduce a categorical latent variable `marital_status`.\n",
    "- We introduce a categorical latent variable `bg` with 7 values intended for \n",
    "  modelling personality factors.\n",
    "- `personal_status_sex` is influenced by `marital_status`, `gender`.\n",
    "- `people_liable` is influenced by `marital_status` and `gender`.\n",
    "- `job` is influenced by `bg`, `gender` and `foreign_worker`.\n",
    "- `employment_duration` is influenced by `bg`, `gender`, `age`, and `foreign_worker`.\n",
    "- A second categorical latent variable `income` with 5 values is intended to model\n",
    "  income classes and is influenced by `job`, `employment_duration`, `foreign_worker`.\n",
    "  Due to technical limitations, we can not model direct gender-based discrimination.\n",
    "- `status` is influenced by `bg` and `income` (assumption: payment morale only indirectly influenced by gender).\n",
    "- `savings` is influenced by `bg`, `income`.\n",
    "- `credit_history` is influenced by `bg` and `income`.\n",
    "- `purpose` is influenced by `bg`, `income`.\n",
    "- `amount` is influenced by `purpose`.\n",
    "- `duration` is influenced by `amount`.\n",
    "- `installment_rate` is influenced by `amount` and `income`.\n",
    "- `other_debtors` is influenced by `amount` and `bg`.\n",
    "- `present_residence` is influenced by `age` and `bg`.\n",
    "- `property` is influenced by `income`.\n",
    "- `other_installment_plans` is influenced by `income` and `bg`.\n",
    "- `housing` is influenced by `income`.\n",
    "- `number_credits` is influenced by `income` and `bg`.\n",
    "- `telephone` is influenced by `income` and `bg`.\n",
    "\n",
    "## Gender and Marital Status\n",
    "The `SouthGerman` dataset doesn't contain a variable for gender or marital status.\n",
    "Therefore, we introduce both as latent variables that influence `personal_status_sex`.\n",
    "\n",
    "Interesting background on the gender-related economic situation in West Germany in the 1970s\n",
    "is contained in the report of the European Commission's Expert Group on Gender and Employment (EGGE) \n",
    "on the unadjusted and adjusted gender pay gap for Germany by Friederike Maier.\n",
    "https://documents.manchester.ac.uk/display.aspx?DocID=50202\n",
    "Concretely, we use the reported 1977 distributions for West Germany.\n",
    "\n",
    "The EGGE reports the fraction of full-time employed women as 24.63% in 1977.\n",
    "This is in contrast to the surplus of women in the general population in West Germany.\n",
    "Women are reported to make up 52.6% of the overall population in West Germany in 1975 \n",
    "according to the United Nations (https://population.un.org/wpp/).\n",
    "\n",
    "For marital status, we did not find data split by gender.\n",
    "Therefore, we model marital status independent of gender and use the\n",
    "1970/1971 distribution from Statista for West Germany.\n",
    "https://de.statista.com/statistik/daten/studie/1059366/umfrage/zahl-der-einwohner-nach-familienstand-in-deutschland/\n",
    "The distribution is: 24 million people single, \n",
    "30.3 million married people (only age group 15-64), 5.2 million widowed, \n",
    "1.1 million separated.\n",
    "According to the United Nations (https://population.un.org/wpp/), the overall\n",
    "population of West Germany in 1970 was 78.2 million, including East Germany.\n",
    "With the total population reported by Statista for West and East Germany\n",
    "being 77.7 million, we assume the missing 1.1 million individuals are\n",
    "married individuals outside the 15-64 age group.\n",
    "The population of West Germany makes up 78.0% of the total german population\n",
    "in 1970 according to Statista.\n",
    "Therefore, we attribute 78% of the 1.1 million additional married individuals\n",
    "to West Germany.\n",
    "Overall, we obtain 24 mil (39.0%) single, 31.2 mil (50.7%) married, \n",
    "5.2 mil (8.5%) widowed and 1.1 mil (1.8%) separated.\n",
    "\n",
    "The `SouthGerman` dataset does not account for separated or widowed women\n",
    "in it's `personal_status_sex` variable.\n",
    "We assume that separated and widowed women are split among the other\n",
    "`personal_status_sex` groups containing women, but more likely to report to be\n",
    "married.\n",
    "\n"
   ]
  },
  {
   "cell_type": "code",
   "execution_count": null,
   "id": "f215b12e5e7b394c",
   "metadata": {},
   "outputs": [],
   "source": [
    "def empirical_frequencies(var, num_vals=None):\n",
    "    frequencies = dataset_df[var].value_counts(normalize=True)\n",
    "    frequencies.sort_index(ascending=True, inplace=True)\n",
    "    if num_vals is not None:\n",
    "        for i in range(num_vals):\n",
    "            if i not in frequencies.index:\n",
    "                frequencies[i] = 0.0\n",
    "    return frequencies\n",
    "\n",
    "\n",
    "def random_weights(size):\n",
    "    weights = torch.rand(size)\n",
    "    return weights / weights.sum()"
   ]
  },
  {
   "cell_type": "code",
   "execution_count": null,
   "id": "caa5c443c3b1fb10",
   "metadata": {},
   "outputs": [],
   "source": [
    "bayes_net_factory = BayesianNetwork.Factory()"
   ]
  },
  {
   "cell_type": "markdown",
   "id": "aca358b18203bcf4",
   "metadata": {},
   "source": [
    "## `age` and `foreign_worker`\n",
    "The root variables `age` and `foreign_worker` are fit directly to the\n",
    "frequencies in the dataset.\n"
   ]
  },
  {
   "cell_type": "code",
   "execution_count": null,
   "id": "3ed2106f7c031fa4",
   "metadata": {},
   "outputs": [],
   "source": [
    "age_frequencies = empirical_frequencies(\"age\")\n",
    "age_frequencies"
   ]
  },
  {
   "cell_type": "code",
   "execution_count": null,
   "id": "ff03dd62e1947bf7",
   "metadata": {},
   "outputs": [],
   "source": [
    "age_node = bayes_net_factory.new_node(\"age\", replace=True)\n",
    "age_node.discrete_event_space(*age_frequencies.index.tolist())\n",
    "age_node.set_conditional_probability(\n",
    "    {}, Categorical(age_frequencies.tolist(), values=age_frequencies.index.tolist())\n",
    ")\n",
    "\n",
    "age_groups = [(19.0, 29.0), (30.0, 59.0), (60.0, 75.0)]"
   ]
  },
  {
   "cell_type": "code",
   "execution_count": null,
   "id": "23b4cf0402de60b8",
   "metadata": {},
   "outputs": [],
   "source": [
    "foreign_worker_node = bayes_net_factory.new_node(\"foreign_worker\", replace=True)\n",
    "foreign_worker_node.one_hot_event_space(2)\n",
    "frequencies = empirical_frequencies(\"foreign_worker\")\n",
    "foreign_worker_node.set_conditional_probability(\n",
    "    {}, CategoricalOneHot(frequencies.tolist())\n",
    ")"
   ]
  },
  {
   "cell_type": "markdown",
   "id": "aa6a0e1c9cfa3115",
   "metadata": {},
   "source": [
    "## `gender` and `marital_status`\n",
    "We initialize the distributions with the historical values, but allow adapting these values to accommodate differences in the general population and the population applying for credits at the bank.\n"
   ]
  },
  {
   "cell_type": "code",
   "execution_count": null,
   "id": "dfc9a19f690b43c3",
   "metadata": {},
   "outputs": [],
   "source": [
    "# no data on other genders available\n",
    "# values: Female, Male\n",
    "gender_size = 2\n",
    "gender_node = bayes_net_factory.new_node(\"gender\", replace=True)\n",
    "gender_node.hidden = True\n",
    "gender_node.discrete_event_space(0.0, 1.0)\n",
    "gender_node.set_conditional_probability({}, Categorical([0.526, 0.474]))"
   ]
  },
  {
   "cell_type": "code",
   "execution_count": null,
   "id": "ae1bf9f2df4d75bb",
   "metadata": {},
   "outputs": [],
   "source": [
    "marital_status_node = bayes_net_factory.new_node(\"marital_status\", replace=True)\n",
    "marital_status_node.hidden = True\n",
    "# values: single, married, widowed, separated\n",
    "marital_status_node.discrete_event_space(0.0, 1.0, 2.0, 3.0)\n",
    "marital_status_node.set_conditional_probability(\n",
    "    {}, Categorical([0.390, 0.507, 0.085, 0.018])\n",
    ")"
   ]
  },
  {
   "cell_type": "markdown",
   "id": "9bbb286b13f01487",
   "metadata": {},
   "source": [
    "## `personal_status_sex`\n",
    "The values of `personal_status_sex` are:\n",
    "- `male: divorced/separated`\n",
    "- `female: non-single or male: single`\n",
    "- `male: married/widowed`\n",
    "- `female: single`\n",
    "\n",
    "Here, we freeze the distributions to keep the latent nodes `gender` and `marital_status` aligned with the values we'd like them to represent.\n"
   ]
  },
  {
   "cell_type": "code",
   "execution_count": null,
   "id": "57d714255ec96880",
   "metadata": {},
   "outputs": [],
   "source": [
    "pers_status_sex_node = bayes_net_factory.new_node(\"personal_status_sex\", replace=True)\n",
    "pers_status_sex_node.set_parents(gender_node, marital_status_node)\n",
    "pers_status_sex_node.one_hot_event_space(4)\n",
    "# we do not model gender disagreeing with sex, due to unavailability of data\n",
    "# and missing information on the historical circumstances.\n",
    "pers_status_sex_node.set_conditional_probability(  # female single\n",
    "    {gender_node: 0.0, marital_status_node: 0.0},\n",
    "    CategoricalOneHot([0.0, 0.0, 0.0, 1.0], frozen=True),\n",
    ")\n",
    "pers_status_sex_node.set_conditional_probability(  # female married\n",
    "    {gender_node: 0.0, marital_status_node: 1.0},\n",
    "    CategoricalOneHot([0.0, 1.0, 0.0, 0.0], frozen=True),\n",
    ")\n",
    "pers_status_sex_node.set_conditional_probability(  # female widowed/separated\n",
    "    {gender_node: 0.0, marital_status_node: ([2.0], [3.0])},\n",
    "    CategoricalOneHot([0.0, 0.9, 0.0, 0.1], frozen=True),\n",
    ")\n",
    "pers_status_sex_node.set_conditional_probability(  # male single\n",
    "    {gender_node: 1.0, marital_status_node: 0.0},\n",
    "    CategoricalOneHot([0.0, 1.0, 0.0, 0.0], frozen=True),\n",
    ")\n",
    "pers_status_sex_node.set_conditional_probability(  # male married/widowed\n",
    "    {gender_node: 1.0, marital_status_node: ([1.0], [2.0])},\n",
    "    CategoricalOneHot([0.0, 0.0, 1.0, 0.0], frozen=True),\n",
    ")\n",
    "pers_status_sex_node.set_conditional_probability(  # male separated\n",
    "    {gender_node: 1.0, marital_status_node: 3.0},\n",
    "    CategoricalOneHot([1.0, 0.0, 0.0, 0.0], frozen=True),\n",
    ")"
   ]
  },
  {
   "cell_type": "markdown",
   "id": "326d00eb32d4aab6",
   "metadata": {},
   "source": [
    "## `bg`\n",
    "A categorical variable with probabilities that are estimated by fitting.\n",
    "We make `bg` dependent on `marital_status`, as we'd like to model correlations between these variables.\n"
   ]
  },
  {
   "cell_type": "code",
   "execution_count": null,
   "id": "e0802c85106744c4",
   "metadata": {},
   "outputs": [],
   "source": [
    "bg_size = 7\n",
    "bg_node = bayes_net_factory.new_node(\"bg\", replace=True)\n",
    "bg_node.hidden = True\n",
    "bg_node.discrete_event_space(*list(range(bg_size)))\n",
    "bg_node.set_conditional_probability({}, Categorical(random_weights(bg_size)))"
   ]
  },
  {
   "cell_type": "markdown",
   "id": "41dac6a9653a8cf",
   "metadata": {},
   "source": [
    "\n",
    "## `people_liable`\n",
    "Depends on `marital_status` and `gender`.\n"
   ]
  },
  {
   "cell_type": "code",
   "execution_count": null,
   "id": "5a7860a863b20e0f",
   "metadata": {},
   "outputs": [],
   "source": [
    "node = bayes_net_factory.new_node(\"people_liable\", replace=True)\n",
    "node.set_parents(gender_node, marital_status_node)\n",
    "node.one_hot_event_space(2)\n",
    "for i in range(gender_size):\n",
    "    for j in range(4):\n",
    "        node.set_conditional_probability(\n",
    "            {gender_node: float(i), marital_status_node: float(j)},\n",
    "            CategoricalOneHot(random_weights(2)),\n",
    "        )"
   ]
  },
  {
   "cell_type": "markdown",
   "id": "71953c4fa165868b",
   "metadata": {},
   "source": [
    "## `job`\n"
   ]
  },
  {
   "cell_type": "code",
   "execution_count": null,
   "id": "eb56e7052f4ef228",
   "metadata": {},
   "outputs": [],
   "source": [
    "job_node = bayes_net_factory.new_node(\"job\", replace=True)\n",
    "job_node.set_parents(bg_node, gender_node, foreign_worker_node)\n",
    "job_node.one_hot_event_space(4)\n",
    "for i in range(bg_size):  # bg\n",
    "    for j in range(2):  # foreign worker\n",
    "        for k in range(gender_size):  # gender\n",
    "            job_node.set_conditional_probability(\n",
    "                {\n",
    "                    bg_node: float(i),\n",
    "                    gender_node: float(k),\n",
    "                    foreign_worker_node: [float(l == j) for l in range(2)],\n",
    "                },\n",
    "                CategoricalOneHot(random_weights(4)),\n",
    "            )"
   ]
  },
  {
   "cell_type": "markdown",
   "id": "af54156ba9634fe2",
   "metadata": {},
   "source": [
    "## `employment_duration`\n"
   ]
  },
  {
   "cell_type": "code",
   "execution_count": null,
   "id": "9b5f637f5059b207",
   "metadata": {},
   "outputs": [],
   "source": [
    "empl_dur_node = bayes_net_factory.new_node(\"employment_duration\", replace=True)\n",
    "empl_dur_node.set_parents(bg_node, gender_node, age_node, foreign_worker_node)\n",
    "empl_dur_node.one_hot_event_space(5)\n",
    "for i in range(bg_size):\n",
    "    for age_group in age_groups:\n",
    "        for j in range(2):  # foreign worker\n",
    "            for k in range(gender_size):\n",
    "                empl_dur_node.set_conditional_probability(\n",
    "                    {\n",
    "                        bg_node: [float(i)],\n",
    "                        gender_node: [float(k)],\n",
    "                        age_node: age_group,\n",
    "                        foreign_worker_node: [float(k == j) for k in range(2)],\n",
    "                    },\n",
    "                    CategoricalOneHot(random_weights(5)),\n",
    "                )"
   ]
  },
  {
   "cell_type": "markdown",
   "id": "71e48f6a2e4fbe6a",
   "metadata": {},
   "source": [
    "## `income`\n",
    "Another latent variable, dependent on `job`, `employment_duration`,\n",
    "and `foreign_worker`.\n"
   ]
  },
  {
   "cell_type": "code",
   "execution_count": null,
   "id": "5b4a1e03b708d5d3",
   "metadata": {},
   "outputs": [],
   "source": [
    "income_size = 5\n",
    "income_node = bayes_net_factory.new_node(\"income\", replace=True)\n",
    "income_node.hidden = True\n",
    "income_node.set_parents(job_node, empl_dur_node, foreign_worker_node)\n",
    "income_node.discrete_event_space(*list(range(income_size)))\n",
    "for i in range(4):\n",
    "    for j in range(5):\n",
    "        for k in range(2):\n",
    "            income_node.set_conditional_probability(\n",
    "                {\n",
    "                    job_node: [float(l == i) for l in range(4)],\n",
    "                    empl_dur_node: [float(l == j) for l in range(5)],\n",
    "                    foreign_worker_node: [float(l == k) for l in range(2)],\n",
    "                },\n",
    "                Categorical(random_weights(income_size)),\n",
    "            )"
   ]
  },
  {
   "cell_type": "markdown",
   "id": "f3ecffd0f986b75d",
   "metadata": {},
   "source": [
    "## `status`, `savings`, `credit_history`, `purpose`\n",
    "All depend on `bg` and `income`.\n"
   ]
  },
  {
   "cell_type": "code",
   "execution_count": null,
   "id": "ace4c12d5507c6f1",
   "metadata": {},
   "outputs": [],
   "source": [
    "nodes = bayes_net_factory.new_nodes(\n",
    "    \"status\", \"savings\", \"credit_history\", \"purpose\", replace=True\n",
    ")\n",
    "sizes = [4, 5, 5, 11]\n",
    "for node, size in zip(nodes, sizes):\n",
    "    node.set_parents(job_node, empl_dur_node)\n",
    "    node.one_hot_event_space(size)\n",
    "    for i in range(4):\n",
    "        for j in range(5):\n",
    "            node.set_conditional_probability(\n",
    "                {\n",
    "                    job_node: [float(k == i) for k in range(4)],\n",
    "                    empl_dur_node: [float(k == j) for k in range(5)],\n",
    "                },\n",
    "                CategoricalOneHot(random_weights(size)),\n",
    "            )\n",
    "purpose_node = nodes[-1]"
   ]
  },
  {
   "cell_type": "markdown",
   "id": "550b0e0ceefe44c3",
   "metadata": {},
   "source": [
    "## `amount`\n",
    "depends on `purpose`\n"
   ]
  },
  {
   "cell_type": "code",
   "execution_count": null,
   "id": "bc9dcb61f9a42a8b",
   "metadata": {},
   "outputs": [],
   "source": [
    "amount_data = dataset_df[\"amount\"]\n",
    "amount_lower = 250.0\n",
    "amount_upper = 20_000.0"
   ]
  },
  {
   "cell_type": "code",
   "execution_count": null,
   "id": "9a6a791a9925c2e",
   "metadata": {},
   "outputs": [],
   "source": [
    "amount_node = bayes_net_factory.new_node(\"amount\", replace=True)\n",
    "amount_node.set_parents(purpose_node)\n",
    "amount_node.continuous_event_space(amount_lower, amount_upper)\n",
    "\n",
    "for i in range(11):  # purpose\n",
    "    # We fit this here, because truncnorm mixtures are hard to fit otherwise.\n",
    "    distribution = MixtureModel.fit_truncnorm_mixture(\n",
    "        amount_data,\n",
    "        (amount_lower, amount_upper),\n",
    "        n_components=3,\n",
    "        n_init=1,\n",
    "        seed=202404190311 + i,\n",
    "    )\n",
    "    distribution = AsInteger.wrap(distribution)\n",
    "    amount_node.set_conditional_probability(\n",
    "        {purpose_node: [float(k == i) for k in range(11)]}, distribution\n",
    "    )\n",
    "\n",
    "amount_classes = [(amount_lower, 1250.0), (1250.0, 5000.0), (5000.0, amount_upper)]"
   ]
  },
  {
   "cell_type": "markdown",
   "id": "a21cfee8d606ec5c",
   "metadata": {},
   "source": [
    "## `duration`\n"
   ]
  },
  {
   "cell_type": "code",
   "execution_count": null,
   "id": "b784853b72fbdd7e",
   "metadata": {},
   "outputs": [],
   "source": [
    "duration_frequencies = empirical_frequencies(\"duration\")\n",
    "duration_frequencies"
   ]
  },
  {
   "cell_type": "code",
   "execution_count": null,
   "id": "a7cf6825a5893326",
   "metadata": {},
   "outputs": [],
   "source": [
    "dur_node = bayes_net_factory.new_node(\"duration\", replace=True)\n",
    "dur_node.set_parents(amount_node)\n",
    "dur_node.discrete_event_space(*duration_frequencies.index.tolist())\n",
    "for amount_group in amount_classes:\n",
    "    distribution = Categorical(\n",
    "        random_weights(len(duration_frequencies)),\n",
    "        values=duration_frequencies.index.tolist(),\n",
    "    )\n",
    "    dur_node.set_conditional_probability({amount_node: amount_group}, distribution)"
   ]
  },
  {
   "cell_type": "markdown",
   "id": "5003fa196a296702",
   "metadata": {},
   "source": [
    "## `installment_rate`\n"
   ]
  },
  {
   "cell_type": "code",
   "execution_count": null,
   "id": "181af4926fe7932c",
   "metadata": {},
   "outputs": [],
   "source": [
    "install_rate_node = bayes_net_factory.new_node(\"installment_rate\", replace=True)\n",
    "install_rate_node.set_parents(amount_node, income_node)\n",
    "install_rate_node.one_hot_event_space(4)\n",
    "for amount_group in amount_classes:\n",
    "    for i in range(income_size):\n",
    "        install_rate_node.set_conditional_probability(\n",
    "            {amount_node: amount_group, income_node: float(i)},\n",
    "            CategoricalOneHot(random_weights(4)),\n",
    "        )"
   ]
  },
  {
   "cell_type": "markdown",
   "id": "98f4e1668e939dfc",
   "metadata": {},
   "source": [
    "## `other_debtors`\n"
   ]
  },
  {
   "cell_type": "code",
   "execution_count": null,
   "id": "202c42c8c27102aa",
   "metadata": {},
   "outputs": [],
   "source": [
    "other_debtors = bayes_net_factory.new_node(\"other_debtors\", replace=True)\n",
    "other_debtors.set_parents(amount_node, bg_node)\n",
    "other_debtors.one_hot_event_space(3)\n",
    "for amount_group in amount_classes:\n",
    "    for i in range(bg_size):\n",
    "        other_debtors.set_conditional_probability(\n",
    "            {amount_node: amount_group, bg_node: float(i)},\n",
    "            CategoricalOneHot(random_weights(3)),\n",
    "        )"
   ]
  },
  {
   "cell_type": "markdown",
   "id": "92ec06ee0a13fdea",
   "metadata": {},
   "source": [
    "## `present_residence`\n"
   ]
  },
  {
   "cell_type": "code",
   "execution_count": null,
   "id": "ceed5a9d27186e3a",
   "metadata": {},
   "outputs": [],
   "source": [
    "residence_node = bayes_net_factory.new_node(\"present_residence\", replace=True)\n",
    "residence_node.set_parents(age_node, bg_node)\n",
    "residence_node.one_hot_event_space(4)\n",
    "for age_group in age_groups:\n",
    "    for i in range(bg_size):\n",
    "        residence_node.set_conditional_probability(\n",
    "            {age_node: age_group, bg_node: float(i)},\n",
    "            CategoricalOneHot(random_weights(4)),\n",
    "        )"
   ]
  },
  {
   "cell_type": "markdown",
   "id": "9ffe23c2c83458fc",
   "metadata": {},
   "source": [
    "## `property`, `housing`\n",
    "both depend on `income`.\n"
   ]
  },
  {
   "cell_type": "code",
   "execution_count": null,
   "id": "eddeed8d67c00a2c",
   "metadata": {},
   "outputs": [],
   "source": [
    "nodes = bayes_net_factory.new_nodes(\"property\", \"housing\", replace=True)\n",
    "sizes = (4, 3)\n",
    "for node, size in zip(nodes, sizes):\n",
    "    node.set_parents(income_node)\n",
    "    node.one_hot_event_space(size)\n",
    "    for i in range(income_size):\n",
    "        node.set_conditional_probability(\n",
    "            {income_node: float(i)}, CategoricalOneHot(random_weights(size))\n",
    "        )"
   ]
  },
  {
   "cell_type": "markdown",
   "id": "3cb57343a6c4d4a3",
   "metadata": {},
   "source": [
    "## `other_installment_plans`, `number_credits`, `telephone`\n",
    "all depend on `bg` and `income`.\n"
   ]
  },
  {
   "cell_type": "code",
   "execution_count": null,
   "id": "47b5ddff9bc5b962",
   "metadata": {},
   "outputs": [],
   "source": [
    "nodes = bayes_net_factory.new_nodes(\n",
    "    \"other_installment_plans\", \"number_credits\", \"telephone\", replace=True\n",
    ")\n",
    "sizes = (3, 4, 2)\n",
    "for node, size in zip(nodes, sizes):\n",
    "    node.set_parents(income_node, bg_node)\n",
    "    node.one_hot_event_space(size)\n",
    "    freqs = empirical_frequencies(node.name, size)\n",
    "    for i in range(bg_size):\n",
    "        for j in range(income_size):\n",
    "            node.set_conditional_probability(\n",
    "                {bg_node: float(i), income_node: float(j)},\n",
    "                CategoricalOneHot(random_weights(size)),\n",
    "            )"
   ]
  },
  {
   "cell_type": "markdown",
   "id": "7ad45cd32a3f1c85",
   "metadata": {},
   "source": [
    "## Build and fit the population model."
   ]
  },
  {
   "cell_type": "code",
   "execution_count": null,
   "id": "9c1352db6c962666",
   "metadata": {},
   "outputs": [],
   "source": [
    "base_variables = tuple(dataset_raw.columns) + (\n",
    "    \"gender\",\n",
    "    \"marital_status\",\n",
    "    \"bg\",\n",
    "    \"income\",\n",
    ")\n",
    "bayes_net_factory.reorder_nodes(base_variables)\n",
    "base_bayes_net = bayes_net_factory.create()"
   ]
  },
  {
   "cell_type": "code",
   "execution_count": null,
   "id": "296a0d1bafec2e8a",
   "metadata": {},
   "outputs": [],
   "source": [
    "var_types = {\n",
    "    var: south_german_input_space.attribute_type(var) for var in SouthGerman.variables\n",
    "}\n",
    "full_base_var_types = var_types | {\n",
    "    \"gender\": TabularInputSpace.AttributeType.INTEGER,\n",
    "    \"marital_status\": TabularInputSpace.AttributeType.INTEGER,\n",
    "    \"bg\": TabularInputSpace.AttributeType.INTEGER,\n",
    "    \"income\": TabularInputSpace.AttributeType.INTEGER,\n",
    "}\n",
    "integer_ranges = {\n",
    "    var: south_german_input_space.attribute_bounds(var)\n",
    "    for var in SouthGerman.variables\n",
    "    if SouthGerman.variables[var] is None\n",
    "}\n",
    "full_integer_ranges = integer_ranges | {\n",
    "    \"gender\": (0, gender_size - 1),\n",
    "    \"marital_status\": (0, 3),\n",
    "    \"bg\": (0, bg_size - 1),\n",
    "    \"income\": (0, income_size - 1),\n",
    "}\n",
    "categorical_values = {\n",
    "    var: south_german_input_space.attribute_values(var)\n",
    "    for var in SouthGerman.variables\n",
    "    if SouthGerman.variables[var] is not None\n",
    "}\n",
    "full_base_bayes_net_input_space = TabularInputSpace(\n",
    "    base_variables,\n",
    "    data_types=full_base_var_types,\n",
    "    continuous_ranges={},\n",
    "    integer_ranges=full_integer_ranges,\n",
    "    categorical_values=categorical_values,\n",
    ")\n",
    "dataset_input_space = south_german_input_space"
   ]
  },
  {
   "cell_type": "markdown",
   "id": "fb614c0a7ef8ba44",
   "metadata": {},
   "source": [
    "### Simulate some data before fitting to see the improvement.\n"
   ]
  },
  {
   "cell_type": "code",
   "execution_count": null,
   "id": "68b62b37db86340c",
   "metadata": {},
   "outputs": [],
   "source": [
    "n = 10000\n",
    "\n",
    "\n",
    "def sample_bayes(bayes_net, input_space, seed):\n",
    "    generated_data = bayes_net.sample(n, seed=seed)\n",
    "    generated_raw = {}\n",
    "    subspace_layout = input_space.encoding_layout\n",
    "    for var in input_space.attribute_names:\n",
    "        cols = subspace_layout[var]\n",
    "        if isinstance(cols, int):\n",
    "            generated_raw[var] = generated_data[:, cols]\n",
    "        else:\n",
    "            values_one_hot = generated_data[:, list(cols.values())]\n",
    "            values = np.argmax(values_one_hot, axis=1)\n",
    "            generated_raw[var] = values\n",
    "\n",
    "    generated_df = pd.DataFrame(generated_raw)\n",
    "    generated_df[\"dataset\"] = \"generated\"\n",
    "    return pd.concat([generated_df, dataset_df])"
   ]
  },
  {
   "cell_type": "code",
   "execution_count": null,
   "id": "4ddedc22b1d017e5",
   "metadata": {},
   "outputs": [],
   "source": [
    "%%capture --no-stdout --no-display\n",
    "base_bayes_net.include_hidden = True\n",
    "df = sample_bayes(base_bayes_net, full_base_bayes_net_input_space, seed=202404252023)\n",
    "base_bayes_net.include_hidden = False\n",
    "fig, axes = plt.subplot_mosaic(\n",
    "    [\n",
    "        [\"status\", \"credit_history\", \"purpose\", \"savings\"],\n",
    "        [\n",
    "            \"employment_duration\",\n",
    "            \"installment_rate\",\n",
    "            \"other_debtors\",\n",
    "            \"present_residence\",\n",
    "        ],\n",
    "        [\"property\", \"other_installment_plans\", \"housing\", \"number_credits\"],\n",
    "        [\"job\", \"people_liable\", \"telephone\", \"foreign_worker\"],\n",
    "        [\"personal_status_sex\", \"personal_status_sex\", \"duration\", \"duration\"],\n",
    "        [\"age\", \"age\", \"amount\", \"amount\"],\n",
    "        [\"gender\", \"marital_status\", \"bg\", \"income\"],\n",
    "    ],\n",
    "    figsize=(15, 24),\n",
    ")\n",
    "for var in list(SouthGerman.variables) + [\"gender\", \"marital_status\", \"bg\", \"income\"]:\n",
    "    if var not in (\"age\", \"duration\", \"amount\"):\n",
    "        g = sns.histplot(\n",
    "            df,\n",
    "            x=var,\n",
    "            hue=\"dataset\",\n",
    "            discrete=True,\n",
    "            shrink=0.8,\n",
    "            multiple=\"dodge\",\n",
    "            stat=\"percent\",\n",
    "            common_norm=False,\n",
    "            legend=False,\n",
    "            ax=axes[var],\n",
    "        )\n",
    "    else:\n",
    "        g = sns.histplot(\n",
    "            df,\n",
    "            x=var,\n",
    "            hue=\"dataset\",\n",
    "            stat=\"percent\",\n",
    "            common_norm=False,\n",
    "            ax=axes[var],\n",
    "        )\n",
    "    g.set(title=var, xlabel=None)"
   ]
  },
  {
   "cell_type": "code",
   "execution_count": null,
   "id": "cb0dc80960dc0596",
   "metadata": {},
   "outputs": [],
   "source": [
    "%%capture --no-stdout --no-display\n",
    "fig, axes = plt.subplots(1, 3, figsize=(15, 5))\n",
    "\n",
    "generated_df_ = df[df[\"dataset\"] == \"generated\"][[var for var in SouthGerman.variables]]\n",
    "pop_model_corrcoef = np.corrcoef(generated_df_.to_numpy().T)\n",
    "# data_corrcoef = np.corrcoef(dataset_raw.data.T.numpy())\n",
    "diff = pop_model_corrcoef - data_corrcoef\n",
    "for corrcoef, ax in zip((pop_model_corrcoef, data_corrcoef, diff), axes):\n",
    "    _ = sns.heatmap(\n",
    "        corrcoef,\n",
    "        vmin=-1.0,\n",
    "        vmax=1.0,\n",
    "        square=True,\n",
    "        cmap=\"RdBu\",\n",
    "        xticklabels=SouthGerman.variables,\n",
    "        yticklabels=SouthGerman.variables,\n",
    "        ax=ax,\n",
    "    )\n",
    "_ = axes[0].set_title(\"Population Model\")\n",
    "_ = axes[1].set_title(\"Training Data\")\n",
    "_ = axes[2].set_title(\"Difference\")"
   ]
  },
  {
   "cell_type": "markdown",
   "id": "ee8bc9c854531d75",
   "metadata": {},
   "source": [
    "The distributions all look good, since they are all fitted to the data, but the correlations are missing.\n",
    "\n",
    "### Fitting\n",
    "Expect fitting to run for up to two days.\n"
   ]
  },
  {
   "cell_type": "code",
   "execution_count": null,
   "id": "19e2a5e12c0ba96c",
   "metadata": {},
   "outputs": [],
   "source": [
    "pd.Series(base_bayes_net.parameters.detach())"
   ]
  },
  {
   "cell_type": "code",
   "execution_count": null,
   "id": "bcf21e5cf759ac20",
   "metadata": {},
   "outputs": [],
   "source": [
    "do_fit = True  # remember, fitting may take days"
   ]
  },
  {
   "cell_type": "code",
   "execution_count": null,
   "id": "630cbf7eb8416598",
   "metadata": {},
   "outputs": [],
   "source": [
    "if do_fit:\n",
    "    # Use the unnormalized values for `duration`, `age`, and `amount` from dataset_raw, but the one-hot encoded\n",
    "    # values of all other variables from dataset.\n",
    "    data = dataset.data\n",
    "    for i, col in enumerate(dataset.columns):\n",
    "        if col in (\"age\", \"duration\", \"amount\"):\n",
    "            raw_i = [\n",
    "                j for j, col_raw in enumerate(dataset_raw.columns) if col_raw == col\n",
    "            ][0]\n",
    "            data[:, i] = dataset_raw.data[:, raw_i]\n",
    "\n",
    "    def callback(res):\n",
    "        # for some reason scipy also calls the callback with numpy arrays\n",
    "        if hasattr(res, \"fun\"):\n",
    "            print(f\"Current Likelihood: {res.fun:.4f}\")\n",
    "\n",
    "    base_bayes_net.fit(\n",
    "        data,\n",
    "        method=\"SLSQP\",\n",
    "        options={\"eps\": 1e-4, \"maxiter\": 250, \"iprint\": 2},  # > 24h\n",
    "        callback=callback,\n",
    "    )\n",
    "    # base_bayes_net.fit(\n",
    "    #     data,\n",
    "    #     method=\"L-BFGS-B\",\n",
    "    #     options={\"eps\": 1e-4, \"iprint\": 99},  # > 2h\n",
    "    # )\n",
    "else:\n",
    "    base_bayes_net = torch.load(\n",
    "        \"../../resources/south_german/base_population_model.pyt\"\n",
    "    )\n",
    "    bayes_net_factory = torch.load(\n",
    "        \"../../resources/south_german/base_bayes_net_factory.pyt\"\n",
    "    )"
   ]
  },
  {
   "cell_type": "code",
   "execution_count": null,
   "id": "8242a92a39d571b6",
   "metadata": {},
   "outputs": [],
   "source": [
    "pd.Series(base_bayes_net.parameters.detach())"
   ]
  },
  {
   "cell_type": "code",
   "execution_count": null,
   "id": "ed93e783a8d8e5d7",
   "metadata": {},
   "outputs": [],
   "source": [
    "%%capture --no-stdout --no-display\n",
    "base_bayes_net.include_hidden = True\n",
    "df = sample_bayes(base_bayes_net, full_base_bayes_net_input_space, seed=202404252023)\n",
    "base_bayes_net.include_hidden = False\n",
    "fig, axes = plt.subplot_mosaic(\n",
    "    [\n",
    "        [\"status\", \"credit_history\", \"purpose\", \"savings\"],\n",
    "        [\n",
    "            \"employment_duration\",\n",
    "            \"installment_rate\",\n",
    "            \"other_debtors\",\n",
    "            \"present_residence\",\n",
    "        ],\n",
    "        [\"property\", \"other_installment_plans\", \"housing\", \"number_credits\"],\n",
    "        [\"job\", \"people_liable\", \"telephone\", \"foreign_worker\"],\n",
    "        [\"personal_status_sex\", \"personal_status_sex\", \"duration\", \"duration\"],\n",
    "        [\"age\", \"age\", \"amount\", \"amount\"],\n",
    "        [\"gender\", \"marital_status\", \"bg\", \"income\"],\n",
    "    ],\n",
    "    figsize=(15, 24),\n",
    ")\n",
    "for var in list(SouthGerman.variables) + [\"gender\", \"marital_status\", \"bg\", \"income\"]:\n",
    "    if var not in (\"age\", \"duration\", \"amount\"):\n",
    "        g = sns.histplot(\n",
    "            df,\n",
    "            x=var,\n",
    "            hue=\"dataset\",\n",
    "            discrete=True,\n",
    "            shrink=0.8,\n",
    "            multiple=\"dodge\",\n",
    "            stat=\"percent\",\n",
    "            common_norm=False,\n",
    "            legend=False,\n",
    "            ax=axes[var],\n",
    "        )\n",
    "    else:\n",
    "        g = sns.histplot(\n",
    "            df,\n",
    "            x=var,\n",
    "            hue=\"dataset\",\n",
    "            stat=\"percent\",\n",
    "            common_norm=False,\n",
    "            ax=axes[var],\n",
    "        )\n",
    "    g.set(title=var, xlabel=None)"
   ]
  },
  {
   "cell_type": "code",
   "execution_count": null,
   "id": "e1732696bff6b3bc",
   "metadata": {},
   "outputs": [],
   "source": [
    "%%capture --no-stdout --no-display\n",
    "fig, axes = plt.subplots(1, 3, figsize=(15, 5))\n",
    "\n",
    "generated_df_ = df[df[\"dataset\"] == \"generated\"][[var for var in SouthGerman.variables]]\n",
    "pop_model_corrcoef = np.corrcoef(generated_df_.to_numpy().T)\n",
    "# data_corrcoef = np.corrcoef(dataset_raw.data.T.numpy())\n",
    "diff = pop_model_corrcoef - data_corrcoef\n",
    "for corrcoef, ax in zip((pop_model_corrcoef, data_corrcoef, diff), axes):\n",
    "    _ = sns.heatmap(\n",
    "        corrcoef,\n",
    "        vmin=-1.0,\n",
    "        vmax=1.0,\n",
    "        square=True,\n",
    "        cmap=\"RdBu\",\n",
    "        xticklabels=SouthGerman.variables,\n",
    "        yticklabels=SouthGerman.variables,\n",
    "        ax=ax,\n",
    "    )\n",
    "_ = axes[0].set_title(\"Population Model\")\n",
    "_ = axes[1].set_title(\"Training Data\")\n",
    "_ = axes[2].set_title(\"Difference\")"
   ]
  },
  {
   "cell_type": "markdown",
   "id": "3c076298283eacb5",
   "metadata": {},
   "source": [
    "## Export the Population Model\n",
    "To feed the samples of the population model to a neural network, we still need to apply\n",
    "z-score normalization.\n",
    "We do this using a linear layer that is applied to the samples of the population model.\n",
    "\n",
    "Also, we make `gender` visible for fairness verification, but discard the gender value for the input of the neural network.\n"
   ]
  },
  {
   "cell_type": "code",
   "execution_count": null,
   "id": "2906cbb4d70a18a4",
   "metadata": {},
   "outputs": [],
   "source": [
    "gender_node.hidden = False\n",
    "# This maintains the parameters of the distributions.\n",
    "bayes_net = bayes_net_factory.create()\n",
    "\n",
    "bayes_net_visible_variables = tuple(dataset_raw.columns) + (\"gender\",)\n",
    "bayes_net_var_types = var_types | {\"gender\": TabularInputSpace.AttributeType.INTEGER}\n",
    "bayes_net_integer_ranges = integer_ranges | {\"gender\": (0.0, gender_size - 1)}\n",
    "bayes_net_input_space = TabularInputSpace(\n",
    "    bayes_net_visible_variables,\n",
    "    data_types=bayes_net_var_types,\n",
    "    continuous_ranges={},\n",
    "    integer_ranges=bayes_net_integer_ranges,\n",
    "    categorical_values=categorical_values,\n",
    ")"
   ]
  },
  {
   "cell_type": "code",
   "execution_count": null,
   "id": "abea0fc9e9dcef1b",
   "metadata": {},
   "outputs": [],
   "source": [
    "# first transformation: drop gender\n",
    "# create an identity matrix with several extra all-zero columns at the end\n",
    "weight = torch.zeros(\n",
    "    dataset_input_space.input_shape + bayes_net_input_space.input_shape\n",
    ")\n",
    "i = torch.arange(weight.size(0))\n",
    "weight[i, i] = 1.0\n",
    "drop_extra_vars = nn.Linear(weight.size(1), weight.size(0), bias=False)\n",
    "with torch.no_grad():\n",
    "    drop_extra_vars.weight = nn.Parameter(weight, requires_grad=False)"
   ]
  },
  {
   "cell_type": "code",
   "execution_count": null,
   "id": "e09878ff1d79cce",
   "metadata": {},
   "outputs": [],
   "source": [
    "mean = dataset_raw.data.mean(dim=0)\n",
    "std = dataset_raw.data.std(dim=0)\n",
    "weight = torch.zeros(\n",
    "    south_german_input_space.input_shape + dataset_input_space.input_shape\n",
    ")\n",
    "bias = torch.zeros(south_german_input_space.input_shape)\n",
    "w_i = 0\n",
    "for i, (var, vals) in enumerate(SouthGerman.variables.items()):\n",
    "    if vals is not None:  # categorical\n",
    "        for _ in range(len(vals)):\n",
    "            weight[w_i, w_i] = 1.0\n",
    "            w_i += 1\n",
    "    else:  # continuous/integer\n",
    "        # we calculate: (x - mean) / std = x/std - mean/std\n",
    "        weight[w_i, w_i] = 1 / std[i]\n",
    "        bias[i] = -mean[i] / std[i]\n",
    "        w_i += 1\n",
    "normalize = nn.Linear(weight.size(1), weight.size(0), bias=True)\n",
    "with torch.no_grad():\n",
    "    normalize.weight = nn.Parameter(weight, requires_grad=False)\n",
    "    normalize.bias = nn.Parameter(bias, requires_grad=False)\n",
    "\n",
    "bayes_net_transform = nn.Sequential(drop_extra_vars, normalize)"
   ]
  },
  {
   "cell_type": "code",
   "execution_count": null,
   "id": "a006091f19881ac6",
   "metadata": {},
   "outputs": [],
   "source": [
    "torch.save(\n",
    "    (bayes_net, bayes_net_input_space, bayes_net_transform),\n",
    "    \"../../resources/south_german/bayes_net_population_model.pyt\",\n",
    "    pickle_module=dill,\n",
    ")"
   ]
  },
  {
   "cell_type": "markdown",
   "id": "daaca26ade2aa8a7",
   "metadata": {},
   "source": [
    "Also safe the factory to facilitate experimenting with the Bayesian network without re-running the fitting.\n"
   ]
  },
  {
   "cell_type": "code",
   "execution_count": null,
   "id": "c325cd55adbbeb7c",
   "metadata": {},
   "outputs": [],
   "source": [
    "torch.save(\n",
    "    bayes_net_factory,\n",
    "    \"../../resources/south_german/base_bayes_net_factory.pyt\",\n",
    "    pickle_module=dill,\n",
    ")"
   ]
  },
  {
   "cell_type": "code",
   "execution_count": null,
   "id": "1fea3ad04f357a51",
   "metadata": {},
   "outputs": [],
   "source": []
  }
 ],
 "metadata": {
  "kernelspec": {
   "display_name": "Python 3 (ipykernel)",
   "language": "python",
   "name": "python3"
  },
  "language_info": {
   "codemirror_mode": {
    "name": "ipython",
    "version": 3
   },
   "file_extension": ".py",
   "mimetype": "text/x-python",
   "name": "python",
   "nbconvert_exporter": "python",
   "pygments_lexer": "ipython3",
   "version": "3.10.14"
  }
 },
 "nbformat": 4,
 "nbformat_minor": 5
}
